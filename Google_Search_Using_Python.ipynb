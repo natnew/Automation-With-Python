{
  "nbformat": 4,
  "nbformat_minor": 0,
  "metadata": {
    "colab": {
      "name": "Google Search Using Python.ipynb",
      "provenance": [],
      "authorship_tag": "ABX9TyPNu3WZCRmTRY19IbCE2+Yg",
      "include_colab_link": true
    },
    "kernelspec": {
      "name": "python3",
      "display_name": "Python 3"
    },
    "language_info": {
      "name": "python"
    }
  },
  "cells": [
    {
      "cell_type": "markdown",
      "metadata": {
        "id": "view-in-github",
        "colab_type": "text"
      },
      "source": [
        "<a href=\"https://colab.research.google.com/github/natnew/Automation-With-Python/blob/main/Google_Search_Using_Python.ipynb\" target=\"_parent\"><img src=\"https://colab.research.google.com/assets/colab-badge.svg\" alt=\"Open In Colab\"/></a>"
      ]
    },
    {
      "cell_type": "markdown",
      "source": [
        "#Automate Searching Google Using Python"
      ],
      "metadata": {
        "id": "seQbswafFkX4"
      }
    },
    {
      "cell_type": "markdown",
      "source": [
        "**Scenario:** I need to scrape websites to gather information about a particular company/topic but I do not know which website have the required information. This code allows me to collect a list of possible websites where I can begin my research.  "
      ],
      "metadata": {
        "id": "bmuMzGpnFvAA"
      }
    },
    {
      "cell_type": "code",
      "execution_count": null,
      "metadata": {
        "colab": {
          "base_uri": "https://localhost:8080/"
        },
        "id": "E1h-wMSPFOyn",
        "outputId": "0f50c4b1-642b-42a8-e3de-d383b124c0f0"
      },
      "outputs": [
        {
          "output_type": "stream",
          "name": "stdout",
          "text": [
            "Looking in indexes: https://pypi.org/simple, https://us-python.pkg.dev/colab-wheels/public/simple/\n",
            "Requirement already satisfied: beautifulsoup4 in /usr/local/lib/python3.7/dist-packages (4.6.3)\n"
          ]
        }
      ],
      "source": [
        "#Install BeautifulSoup Library\n",
        "!pip install beautifulsoup4"
      ]
    },
    {
      "cell_type": "code",
      "source": [
        "#Install Google Library\n",
        "!pip install google"
      ],
      "metadata": {
        "colab": {
          "base_uri": "https://localhost:8080/"
        },
        "id": "Ge1d9WH9FbVk",
        "outputId": "c3823c1c-066d-4c92-f9d3-988f6188e0aa"
      },
      "execution_count": null,
      "outputs": [
        {
          "output_type": "stream",
          "name": "stdout",
          "text": [
            "Looking in indexes: https://pypi.org/simple, https://us-python.pkg.dev/colab-wheels/public/simple/\n",
            "Requirement already satisfied: google in /usr/local/lib/python3.7/dist-packages (2.0.3)\n",
            "Requirement already satisfied: beautifulsoup4 in /usr/local/lib/python3.7/dist-packages (from google) (4.6.3)\n"
          ]
        }
      ]
    },
    {
      "cell_type": "code",
      "source": [
        "#The following code imports the search module from the Google library, and searches the web based on a string. \n",
        "#The query variable holds the string to be searched.\n",
        "#The num variable holds the number of searches we want returned\n",
        "#The stop variable ensures that the loop stops once the condition has been met\n",
        "#The pause variable ensures there is a wait between queries. \n",
        "\n",
        "try:\n",
        "    from googlesearch import search\n",
        "except ImportError:\n",
        "    print(\"No module named 'google' found\")\n",
        " \n",
        "# to search\n",
        "query = \"Guardian News\"\n",
        " \n",
        "for j in search(query, tld=\"co.in\", num=10, stop=10, pause=2):\n",
        "    print(j)"
      ],
      "metadata": {
        "colab": {
          "base_uri": "https://localhost:8080/"
        },
        "id": "KqoW8KOAFgNv",
        "outputId": "084648ac-35a8-47f4-a674-18a76ed7c47e"
      },
      "execution_count": null,
      "outputs": [
        {
          "output_type": "stream",
          "name": "stdout",
          "text": [
            "https://www.theguardian.com/us\n",
            "https://twitter.com/guardiannews?ref_src=twsrc%5Egoogle%7Ctwcamp%5Eserp%7Ctwgr%5Eauthor\n",
            "https://twitter.com/guardiannews/status/1530627136075321345?ref_src=twsrc%5Egoogle%7Ctwcamp%5Eserp%7Ctwgr%5Etweet\n",
            "https://twitter.com/guardiannews/status/1530623737363668992?ref_src=twsrc%5Egoogle%7Ctwcamp%5Eserp%7Ctwgr%5Etweet\n",
            "https://twitter.com/guardiannews/status/1530620187174744073?ref_src=twsrc%5Egoogle%7Ctwcamp%5Eserp%7Ctwgr%5Etweet\n",
            "https://twitter.com/guardiannews/status/1530616224421498886?ref_src=twsrc%5Egoogle%7Ctwcamp%5Eserp%7Ctwgr%5Etweet\n",
            "https://www.theguardian.com/politics/2022/may/28/boris-johnson-set-to-bring-back-imperial-measurements-to-mark-platinum-jubilee\n",
            "https://www.youtube.com/channel/UCIRYBXDze5krPDzAEOxFGVA\n",
            "https://twitter.com/guardian\n",
            "https://guardian.ng/\n"
          ]
        }
      ]
    },
    {
      "cell_type": "code",
      "source": [
        "try:\n",
        "    from googlesearch import search\n",
        "except ImportError:\n",
        "    print(\"No module named 'google' found\")\n",
        " \n",
        "# to search\n",
        "query = \"The Financial Times\"\n",
        " \n",
        "for j in search(query, tld=\"co.in\", num=10, stop=10, pause=2):\n",
        "    print(j)"
      ],
      "metadata": {
        "colab": {
          "base_uri": "https://localhost:8080/"
        },
        "id": "OeSMfRWDGqvU",
        "outputId": "53ae824a-8ea3-4ba2-ea34-10af16c2022f"
      },
      "execution_count": null,
      "outputs": [
        {
          "output_type": "stream",
          "name": "stdout",
          "text": [
            "https://www.ft.com/\n",
            "https://en.wikipedia.org/wiki/Financial_Times\n",
            "https://twitter.com/FinancialTimes?ref_src=twsrc%5Egoogle%7Ctwcamp%5Eserp%7Ctwgr%5Eauthor\n",
            "https://twitter.com/FinancialTimes/status/1530609324514545667?ref_src=twsrc%5Egoogle%7Ctwcamp%5Eserp%7Ctwgr%5Etweet\n",
            "https://twitter.com/FinancialTimes/status/1530609333205143554?ref_src=twsrc%5Egoogle%7Ctwcamp%5Eserp%7Ctwgr%5Etweet\n",
            "https://twitter.com/FinancialTimes/status/1530625019851702272?ref_src=twsrc%5Egoogle%7Ctwcamp%5Eserp%7Ctwgr%5Etweet\n",
            "https://twitter.com/FinancialTimes/status/1530609333205073920?ref_src=twsrc%5Egoogle%7Ctwcamp%5Eserp%7Ctwgr%5Etweet\n",
            "https://www.linkedin.com/company/financial-times\n",
            "https://twitter.com/ft\n",
            "https://www.youtube.com/channel/UCoUxsWakJucWg46KW5RsvPw\n"
          ]
        }
      ]
    },
    {
      "cell_type": "code",
      "source": [
        "try:\n",
        "    from googlesearch import search\n",
        "except ImportError:\n",
        "    print(\"No module named 'google' found\")\n",
        " \n",
        "# to search\n",
        "query = \"The Economist\"\n",
        " \n",
        "for j in search(query, tld=\"co.in\", num=10, stop=10, pause=2):\n",
        "    print(j)"
      ],
      "metadata": {
        "id": "ZKADk7oneNrC",
        "outputId": "bff34696-26e5-4fe9-a2cf-7905061ec560",
        "colab": {
          "base_uri": "https://localhost:8080/"
        }
      },
      "execution_count": null,
      "outputs": [
        {
          "output_type": "stream",
          "name": "stdout",
          "text": [
            "https://www.economist.com/\n",
            "https://www.economistgroup.com/\n",
            "https://twitter.com/TheEconomist?ref_src=twsrc%5Egoogle%7Ctwcamp%5Eserp%7Ctwgr%5Eauthor\n",
            "https://twitter.com/TheEconomist/status/1530655162368499715?ref_src=twsrc%5Egoogle%7Ctwcamp%5Eserp%7Ctwgr%5Etweet\n",
            "https://twitter.com/TheEconomist/status/1530653146569228289?ref_src=twsrc%5Egoogle%7Ctwcamp%5Eserp%7Ctwgr%5Etweet\n",
            "https://twitter.com/TheEconomist/status/1530652397000851457?ref_src=twsrc%5Egoogle%7Ctwcamp%5Eserp%7Ctwgr%5Etweet\n",
            "https://twitter.com/TheEconomist/status/1530636028654010369?ref_src=twsrc%5Egoogle%7Ctwcamp%5Eserp%7Ctwgr%5Etweet\n",
            "https://en.wikipedia.org/wiki/The_Economist\n",
            "https://www.facebook.com/TheEconomist\n",
            "https://www.eiu.com/\n"
          ]
        }
      ]
    }
  ]
}